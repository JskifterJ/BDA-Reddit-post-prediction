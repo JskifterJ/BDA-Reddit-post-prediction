{
 "cells": [
  {
   "cell_type": "markdown",
   "metadata": {},
   "source": [
    "### Loading requirements"
   ]
  },
  {
   "cell_type": "code",
   "execution_count": 42,
   "metadata": {},
   "outputs": [],
   "source": [
    "import pandas as pd\n",
    "import numpy as np\n",
    "import re\n",
    "import string\n",
    "import datetime as dt\n",
    "from scipy import sparse\n",
    "from nltk.tokenize import word_tokenize\n",
    "from nltk.corpus import stopwords\n",
    "from nltk.stem.porter import PorterStemmer\n",
    "from sklearn.feature_extraction.text import CountVectorizer\n",
    "from sklearn.model_selection import train_test_split\n",
    "from sklearn.neighbors import KNeighborsClassifier\n",
    "from sklearn.naive_bayes import GaussianNB\n",
    "from sklearn.tree import DecisionTreeClassifier\n",
    "from sklearn.svm import SVC\n",
    "from sklearn.ensemble import RandomForestClassifier\n",
    "from sklearn.linear_model import Lasso, LinearRegression, LogisticRegression\n",
    "from sklearn.metrics import classification_report"
   ]
  },
  {
   "cell_type": "markdown",
   "metadata": {},
   "source": [
    "---\n",
    "### Loading dataset + defining functions"
   ]
  },
  {
   "cell_type": "code",
   "execution_count": 85,
   "metadata": {},
   "outputs": [],
   "source": [
    "science_df = pd.read_csv('datasets\\\\science_dataset_updated.csv',) #Loads dataset\n",
    "stop_words = set(stopwords.words('english')) #Defines stopwords\n",
    "ps = PorterStemmer() #Defines stemmer\n",
    "\n",
    "def preprocess_text_col(dataframe, column_name): #Function for preprocessing text data for model-use by adding 'title-cleaned' column to given dataframe\n",
    "    \n",
    "    def remove_punctuation(text): #Removes punctuation from string e.g. 'This is a string. This is another string' → 'This is a string This is another string' \n",
    "        no_punct=[words for words in text if words not in string.punctuation]\n",
    "        words_wo_punct=''.join(no_punct)\n",
    "        return words_wo_punct\n",
    "    def tokenize(text): #Tokenizes string e.g. 'This is a string' → ['this', 'is', 'a', 'string']\n",
    "        split=re.split(\"\\W+\", text) \n",
    "        return split\n",
    "    def remove_stopwords(text): #Removes stopwords list of strings e.g. ['this', 'is', 'a', 'string'] → ['string']\n",
    "        text=[word for word in text if word not in stop_words]\n",
    "        return text\n",
    "    def stem_nested_list(lst): #Stems words in a nested list and returns a nested list with stemmed words\n",
    "        master_list = []\n",
    "        for x in lst:\n",
    "            stemmed_list = [ps.stem(word) for word in x]\n",
    "            master_list.append(stemmed_list)\n",
    "        return master_list\n",
    "    \n",
    "    title_wo_punct = [remove_punctuation(x) for x in dataframe[column_name]]\n",
    "    title_wo_punct_split = [tokenize(word) for word in title_wo_punct]\n",
    "    title_wo_punct_split_stopwords = [remove_stopwords(word) for word in title_wo_punct_split]\n",
    "    dataframe['title_cleaned'] = stem_nested_list(title_wo_punct_split_stopwords)\n",
    "\n",
    "    \n",
    "    \n",
    "def test_model(model): #Function for testing model(s)\n",
    "    if type(model) == list:\n",
    "        for x in range(len(model)):\n",
    "            print(\"Training score for {}: {:.3f}\".format(str(model[x]), model[x].score(X_train, y_train)))\n",
    "            print(\"Test score for {}: {:.2f}\\n\".format(model[x], model[x].score(X_test, y_test)))\n",
    "    else:\n",
    "        print(\"Training score: {:.3f}\".format(model.score(X_train, y_train)))\n",
    "        print(\"Test score: {:.2f}\".format(model.score(X_test, y_test)))\n",
    "\n",
    "def col_to_matrix(dataframe, column): #Function for converting a column from a pd.dataframe into a scipy.sparse.csr_matrix\n",
    "    matrix =  dataframe[column].values[np.newaxis] #Creating 2D np array from column by adding an axis to original 1D array (df[col].values)\n",
    "    matrix = matrix.T #Transposing (rotating) array e.g. (1, 823) to (823, 1)\n",
    "    matrix = sparse.csr_matrix(matrix) #Creating matrix from array\n",
    "    return matrix"
   ]
  },
  {
   "cell_type": "markdown",
   "metadata": {},
   "source": [
    "---\n",
    "### Preprocessing text-data for model-use"
   ]
  },
  {
   "cell_type": "code",
   "execution_count": 86,
   "metadata": {
    "collapsed": true
   },
   "outputs": [
    {
     "name": "stderr",
     "output_type": "stream",
     "text": [
      "<ipython-input-86-469f67b0ac9b>:16: SettingWithCopyWarning: \n",
      "A value is trying to be set on a copy of a slice from a DataFrame\n",
      "\n",
      "See the caveats in the documentation: https://pandas.pydata.org/pandas-docs/stable/user_guide/indexing.html#returning-a-view-versus-a-copy\n",
      "  science_df['score_class'][x] = 'Last 80%'\n",
      "<ipython-input-86-469f67b0ac9b>:8: SettingWithCopyWarning: \n",
      "A value is trying to be set on a copy of a slice from a DataFrame\n",
      "\n",
      "See the caveats in the documentation: https://pandas.pydata.org/pandas-docs/stable/user_guide/indexing.html#returning-a-view-versus-a-copy\n",
      "  science_df['score_class'][x] = 'Top 1%'\n",
      "<ipython-input-86-469f67b0ac9b>:14: SettingWithCopyWarning: \n",
      "A value is trying to be set on a copy of a slice from a DataFrame\n",
      "\n",
      "See the caveats in the documentation: https://pandas.pydata.org/pandas-docs/stable/user_guide/indexing.html#returning-a-view-versus-a-copy\n",
      "  science_df['score_class'][x] = 'Top 20%'\n",
      "<ipython-input-86-469f67b0ac9b>:12: SettingWithCopyWarning: \n",
      "A value is trying to be set on a copy of a slice from a DataFrame\n",
      "\n",
      "See the caveats in the documentation: https://pandas.pydata.org/pandas-docs/stable/user_guide/indexing.html#returning-a-view-versus-a-copy\n",
      "  science_df['score_class'][x] = 'Top 10%'\n",
      "<ipython-input-86-469f67b0ac9b>:10: SettingWithCopyWarning: \n",
      "A value is trying to be set on a copy of a slice from a DataFrame\n",
      "\n",
      "See the caveats in the documentation: https://pandas.pydata.org/pandas-docs/stable/user_guide/indexing.html#returning-a-view-versus-a-copy\n",
      "  science_df['score_class'][x] = 'Top 5%'\n"
     ]
    }
   ],
   "source": [
    "preprocess_text_col(science_df, 'title')\n",
    "\n",
    "science_df['score_class'] = \"\" #Creating the score_class column in the dataframe and filling it with 0s\n",
    "score_list = sorted([x for x in science_df.score]) #Generates a list of all scores sorted in ascending order\n",
    "\n",
    "for x in range(len(science_df)): #Generates classes for score percentiles\n",
    "    if science_df['score'][x] >= score_list[int(len(science_df['score']) * 0.99)]:\n",
    "        science_df['score_class'][x] = 'Top 1%'\n",
    "    elif science_df['score'][x] >= score_list[int(len(science_df['score']) * 0.95)]:\n",
    "        science_df['score_class'][x] = 'Top 5%'\n",
    "    elif science_df['score'][x] >= score_list[int(len(science_df['score']) * 0.90)]:\n",
    "        science_df['score_class'][x] = 'Top 10%'\n",
    "    elif science_df['score'][x] >= score_list[int(len(science_df['score']) * 0.80)]:\n",
    "        science_df['score_class'][x] = 'Top 20%'\n",
    "    else:\n",
    "        science_df['score_class'][x] = 'Last 80%'\n",
    "\n",
    "post_time = col_to_matrix(science_df, '24h_posttime')\n",
    "title_len = col_to_matrix(science_df, 'title length')\n",
    "\n",
    "vectorizer = CountVectorizer(lowercase=False, analyzer=lambda x: x)\n",
    "titles_vectorized = vectorizer.fit_transform(science_df.title_cleaned)\n",
    "titles_vectorized = sparse.hstack((post_time, titles_vectorized)) #Adding posttime column to matrix\n",
    "titles_vectorized = sparse.hstack((title_len, titles_vectorized)) #Adding title_length column to matrix\n",
    "\n",
    "X_train, X_test, y_train, y_test = train_test_split(titles_vectorized, science_df.score_class, test_size = 0.2, random_state = 2021)"
   ]
  },
  {
   "cell_type": "markdown",
   "metadata": {},
   "source": [
    "---\n",
    "### Creating, training and testing models"
   ]
  },
  {
   "cell_type": "code",
   "execution_count": 88,
   "metadata": {},
   "outputs": [
    {
     "name": "stdout",
     "output_type": "stream",
     "text": [
      "TRAINING FINISHED!\n",
      "Time spent training (hh:mm:ss): 0:00:37.380542 \n",
      "\n",
      "Training score for LogisticRegression(C=0.1, max_iter=5000): 0.863\n",
      "Test score for LogisticRegression(C=0.1, max_iter=5000): 0.77\n",
      "\n",
      "Training score for SVC(C=0.1): 0.802\n",
      "Test score for SVC(C=0.1): 0.79\n",
      "\n",
      "Training score for KNeighborsClassifier(): 0.815\n",
      "Test score for KNeighborsClassifier(): 0.78\n",
      "\n",
      "Training score for DecisionTreeClassifier(): 0.998\n",
      "Test score for DecisionTreeClassifier(): 0.70\n",
      "\n",
      "Training score for RandomForestClassifier(): 0.998\n",
      "Test score for RandomForestClassifier(): 0.78\n",
      "\n",
      "Time spent testing (hh:mm:ss): 0:00:06.259303\n"
     ]
    }
   ],
   "source": [
    "begin_time = dt.datetime.now()\n",
    "\n",
    "logreg = LogisticRegression(C=.1, max_iter=5000).fit(X_train, y_train)\n",
    "SVC_model = SVC(C=.1).fit(X_train, y_train)\n",
    "knn = KNeighborsClassifier(n_neighbors = 5).fit(X_train, y_train)\n",
    "dtree = DecisionTreeClassifier().fit(X_train, y_train)\n",
    "forest = RandomForestClassifier().fit(X_train, y_train)\n",
    "\n",
    "train_end_time = dt.datetime.now()\n",
    "print('TRAINING FINISHED!\\n'+'Time spent training (hh:mm:ss):', train_end_time - begin_time, '\\n')\n",
    "\n",
    "test_model([logreg, SVC_model, knn, dtree, forest])\n",
    "\n",
    "print('Time spent testing (hh:mm:ss):', dt.datetime.now() - train_end_time)"
   ]
  }
 ],
 "metadata": {
  "kernelspec": {
   "display_name": "Python 3",
   "language": "python",
   "name": "python3"
  },
  "language_info": {
   "codemirror_mode": {
    "name": "ipython",
    "version": 3
   },
   "file_extension": ".py",
   "mimetype": "text/x-python",
   "name": "python",
   "nbconvert_exporter": "python",
   "pygments_lexer": "ipython3",
   "version": "3.8.5"
  }
 },
 "nbformat": 4,
 "nbformat_minor": 4
}
